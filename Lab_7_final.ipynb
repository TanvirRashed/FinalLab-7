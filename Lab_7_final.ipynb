{
  "nbformat": 4,
  "nbformat_minor": 0,
  "metadata": {
    "colab": {
      "provenance": []
    },
    "kernelspec": {
      "name": "python3",
      "display_name": "Python 3"
    },
    "language_info": {
      "name": "python"
    }
  },
  "cells": [
    {
      "cell_type": "code",
      "source": [
        "!pip install q kaggle"
      ],
      "metadata": {
        "colab": {
          "base_uri": "https://localhost:8080/"
        },
        "id": "c81-2r5FVLIj",
        "outputId": "631601e7-db28-40ee-b4ac-24d306ad9dd8"
      },
      "execution_count": null,
      "outputs": [
        {
          "output_type": "stream",
          "name": "stdout",
          "text": [
            "Requirement already satisfied: q in /usr/local/lib/python3.11/dist-packages (2.7)\n",
            "Requirement already satisfied: kaggle in /usr/local/lib/python3.11/dist-packages (1.6.17)\n",
            "Requirement already satisfied: six>=1.10 in /usr/local/lib/python3.11/dist-packages (from kaggle) (1.17.0)\n",
            "Requirement already satisfied: certifi>=2023.7.22 in /usr/local/lib/python3.11/dist-packages (from kaggle) (2024.12.14)\n",
            "Requirement already satisfied: python-dateutil in /usr/local/lib/python3.11/dist-packages (from kaggle) (2.8.2)\n",
            "Requirement already satisfied: requests in /usr/local/lib/python3.11/dist-packages (from kaggle) (2.32.3)\n",
            "Requirement already satisfied: tqdm in /usr/local/lib/python3.11/dist-packages (from kaggle) (4.67.1)\n",
            "Requirement already satisfied: python-slugify in /usr/local/lib/python3.11/dist-packages (from kaggle) (8.0.4)\n",
            "Requirement already satisfied: urllib3 in /usr/local/lib/python3.11/dist-packages (from kaggle) (2.3.0)\n",
            "Requirement already satisfied: bleach in /usr/local/lib/python3.11/dist-packages (from kaggle) (6.2.0)\n",
            "Requirement already satisfied: webencodings in /usr/local/lib/python3.11/dist-packages (from bleach->kaggle) (0.5.1)\n",
            "Requirement already satisfied: text-unidecode>=1.3 in /usr/local/lib/python3.11/dist-packages (from python-slugify->kaggle) (1.3)\n",
            "Requirement already satisfied: charset-normalizer<4,>=2 in /usr/local/lib/python3.11/dist-packages (from requests->kaggle) (3.4.1)\n",
            "Requirement already satisfied: idna<4,>=2.5 in /usr/local/lib/python3.11/dist-packages (from requests->kaggle) (3.10)\n"
          ]
        }
      ]
    },
    {
      "cell_type": "code",
      "source": [
        "from google.colab import drive\n",
        "drive.mount('/content/drive')"
      ],
      "metadata": {
        "colab": {
          "base_uri": "https://localhost:8080/"
        },
        "id": "u3wRY0rhXXdD",
        "outputId": "e7870bb7-de05-4664-c7e6-a52fdbe60ee6"
      },
      "execution_count": null,
      "outputs": [
        {
          "output_type": "stream",
          "name": "stdout",
          "text": [
            "Drive already mounted at /content/drive; to attempt to forcibly remount, call drive.mount(\"/content/drive\", force_remount=True).\n"
          ]
        }
      ]
    },
    {
      "cell_type": "code",
      "source": [
        "! mkdir -p ~/.kaggle"
      ],
      "metadata": {
        "id": "aqwMPxoZZFw7"
      },
      "execution_count": null,
      "outputs": []
    },
    {
      "cell_type": "code",
      "source": [
        "!cp  /content/drive/MyDrive/CSE-366/kaggle.json ~/.kaggle/kaggle.json"
      ],
      "metadata": {
        "id": "Rq7-pNM2aebA",
        "colab": {
          "base_uri": "https://localhost:8080/"
        },
        "outputId": "d34efa9c-9791-4e8b-f181-1d9b0b5105b4"
      },
      "execution_count": null,
      "outputs": [
        {
          "output_type": "stream",
          "name": "stdout",
          "text": [
            "cp: cannot stat '/content/drive/MyDrive/CSE-366/kaggle.json': No such file or directory\n"
          ]
        }
      ]
    },
    {
      "cell_type": "code",
      "source": [
        "!chmod 600 ~/.kaggle/kaggle.json"
      ],
      "metadata": {
        "id": "ltVWjbS4gWZU",
        "colab": {
          "base_uri": "https://localhost:8080/"
        },
        "outputId": "942c9bd1-c5f2-4d36-a6a1-36898e4cf967"
      },
      "execution_count": null,
      "outputs": [
        {
          "output_type": "stream",
          "name": "stdout",
          "text": [
            "chmod: cannot access '/root/.kaggle/kaggle.json': No such file or directory\n"
          ]
        }
      ]
    },
    {
      "cell_type": "code",
      "source": [
        "!kaggle datasets download imbikramsaha/caltech-101"
      ],
      "metadata": {
        "colab": {
          "base_uri": "https://localhost:8080/"
        },
        "id": "tp6fm06Qgrfp",
        "outputId": "f2aac32e-f4d0-4aab-8f69-66a43b8b9b22"
      },
      "execution_count": null,
      "outputs": [
        {
          "output_type": "stream",
          "name": "stdout",
          "text": [
            "Dataset URL: https://www.kaggle.com/datasets/imbikramsaha/caltech-101\n",
            "License(s): CC0-1.0\n",
            "caltech-101.zip: Skipping, found more recently modified local copy (use --force to force download)\n"
          ]
        }
      ]
    },
    {
      "cell_type": "code",
      "source": [
        "!mkdir -p ./caltech"
      ],
      "metadata": {
        "id": "vO-btt8Dh_CB"
      },
      "execution_count": null,
      "outputs": []
    },
    {
      "cell_type": "code",
      "source": [
        "!unzip caltech-101.zip -d ./caltech"
      ],
      "metadata": {
        "colab": {
          "base_uri": "https://localhost:8080/"
        },
        "id": "8CnXAUhmiZUz",
        "outputId": "ed1a1a3a-b8d7-4c1b-97f7-44d7a85124a4"
      },
      "execution_count": null,
      "outputs": [
        {
          "metadata": {
            "tags": null
          },
          "name": "stdout",
          "output_type": "stream",
          "text": [
            "Archive:  caltech-101.zip\n",
            "replace ./caltech/caltech-101/BACKGROUND_Google/image_0001.jpg? [y]es, [n]o, [A]ll, [N]one, [r]ename: "
          ]
        }
      ]
    },
    {
      "cell_type": "code",
      "execution_count": null,
      "metadata": {
        "id": "SDy-NbJfAQGz"
      },
      "outputs": [],
      "source": [
        "from torchvision import datasets, transforms\n",
        "\n",
        "\n",
        "transform = transforms.Compose([\n",
        "transforms.Resize((128, 128)),\n",
        "transforms.RandomHorizontalFlip(),\n",
        "transforms.RandomVerticalFlip(),\n",
        "transforms.RandomRotation(30),\n",
        "transforms.ColorJitter(brightness=0.4, contrast=0.4,\n",
        "saturation=0.4, hue=0.1),\n",
        "transforms.RandomAffine(degrees=15, translate=(0.1, 0.1),\n",
        "scale=(0.9, 1.1)),\n",
        "transforms.RandomGrayscale(p=0.2),\n",
        "transforms.ToTensor(),\n",
        "transforms.Normalize(mean=[0.485, 0.456, 0.406], std=[0.229,\n",
        "0.224, 0.225])\n",
        "])\n",
        "dataset = datasets.ImageFolder(root='/content/caltech',\n",
        "transform=transform)"
      ]
    },
    {
      "cell_type": "code",
      "source": [
        "from torch.utils.data import random_split\n",
        "train_size = int(0.8 * len(dataset))\n",
        "val_size = int(0.1 * len(dataset))\n",
        "test_size = len(dataset) - train_size - val_size\n",
        "train_data, val_data, test_data = random_split(dataset, [train_size,\n",
        "val_size, test_size])"
      ],
      "metadata": {
        "id": "-dxxni1bAajw"
      },
      "execution_count": null,
      "outputs": []
    },
    {
      "cell_type": "code",
      "source": [
        "from torch.utils.data import DataLoader\n",
        "train_loader = DataLoader(train_data, batch_size=32, shuffle=True)\n",
        "val_loader = DataLoader(val_data, batch_size=32)\n",
        "test_loader = DataLoader(test_data, batch_size=32)"
      ],
      "metadata": {
        "id": "UdK3OuozAgkr"
      },
      "execution_count": null,
      "outputs": []
    },
    {
      "cell_type": "code",
      "source": [
        "from torchvision.models import vgg19\n",
        "from torchvision.models import vgg19\n",
        "import torch.nn as nn\n",
        "model = vgg19(pretrained=True)\n",
        "model.classifier[6] = nn.Linear(4096, 101)"
      ],
      "metadata": {
        "id": "c4ewXWWvApt_"
      },
      "execution_count": null,
      "outputs": []
    },
    {
      "cell_type": "code",
      "source": [
        "from torchvision.models import resnet50\n",
        "model = resnet50(pretrained=True)"
      ],
      "metadata": {
        "id": "qfiZwUo6Aul-"
      },
      "execution_count": null,
      "outputs": []
    },
    {
      "cell_type": "code",
      "source": [
        "from torchvision.models import resnet50\n",
        "import torch.nn as nn\n",
        "\n",
        "model = resnet50(pretrained=True)\n",
        "model.fc = nn.Linear(2048, 101)\n",
        "\n",
        "\n",
        "class_names = ['class1', 'class2', ..., 'class101']\n",
        "print(class_names)"
      ],
      "metadata": {
        "id": "gVIk69OFAv2O"
      },
      "execution_count": null,
      "outputs": []
    },
    {
      "cell_type": "code",
      "source": [
        "from torchvision.models import efficientnet_b0\n",
        "model = efficientnet_b0(pretrained=True)\n",
        "model.classifier[1] = nn.Linear(1280, 101)\n",
        "for 101 classes"
      ],
      "metadata": {
        "id": "AmyNP9inAzPX"
      },
      "execution_count": null,
      "outputs": []
    },
    {
      "cell_type": "code",
      "source": [
        "import torch.optim as optim\n",
        "criterion = nn.CrossEntropyLoss()\n",
        "optimizer = optim.Adam(model.parameters(), lr=0.001)"
      ],
      "metadata": {
        "id": "PxA9Bq_hA308"
      },
      "execution_count": null,
      "outputs": []
    },
    {
      "cell_type": "code",
      "source": [
        "for epoch in range(10):\n",
        "model.train()\n",
        "for images, labels in train_loader:\n",
        "optimizer.zero_grad()\n",
        "outputs = model(images)\n",
        "loss = criterion(outputs, labels)\n",
        "loss.backward()\n",
        "optimizer.step()"
      ],
      "metadata": {
        "id": "1QQj9wQQA9TV"
      },
      "execution_count": null,
      "outputs": []
    },
    {
      "cell_type": "code",
      "source": [
        "model.eval()\n",
        "with torch.no_grad():\n",
        "for images, labels in val_loader:\n",
        "outputs = model(images)"
      ],
      "metadata": {
        "id": "QYkm6PrQBB4r"
      },
      "execution_count": null,
      "outputs": []
    },
    {
      "cell_type": "code",
      "source": [
        "from sklearn.model_selection import ParameterGrid\n",
        "param_grid = {\n",
        "'lr': [0.1, 0.01, 0.001],\n",
        "'batch_size': [16, 32, 64]\n",
        "}\n",
        "best_params = None\n",
        "best_accuracy = 0\n",
        "for params in ParameterGrid(param_grid):\n",
        "optimizer = optim.Adam(model.parameters(), lr=params['lr'])\n",
        "train_loader = DataLoader(train_data,\n",
        "batch_size=params['batch_size'], shuffle=True)\n",
        "accuracy\n",
        "print(f\"Best Params: {best_params}\")"
      ],
      "metadata": {
        "id": "tJFdVm8lBGCj"
      },
      "execution_count": null,
      "outputs": []
    },
    {
      "cell_type": "code",
      "source": [
        "model.eval()"
      ],
      "metadata": {
        "id": "TtzGT6idBRIX"
      },
      "execution_count": null,
      "outputs": []
    },
    {
      "cell_type": "code",
      "source": [
        "with torch.no_grad():\n",
        "for images, labels in test_loader:\n",
        "outputs = model(images)"
      ],
      "metadata": {
        "id": "l9jiH4RVBR-U"
      },
      "execution_count": null,
      "outputs": []
    },
    {
      "cell_type": "code",
      "source": [
        "from sklearn.metrics import confusion_matrix\n",
        "y_pred = []\n",
        "y_true = []\n",
        "with torch.no_grad():\n",
        "for images, labels in test_loader:\n",
        "outputs = model(images)\n",
        "_, preds = torch.max(outputs, 1)\n",
        "y_pred.extend(preds.numpy())\n",
        "y_true.extend(labels.numpy())\n",
        "cm = confusion_matrix(y_true, y_pred)\n",
        "print(cm)"
      ],
      "metadata": {
        "id": "apRJqQr_BVys"
      },
      "execution_count": null,
      "outputs": []
    },
    {
      "cell_type": "code",
      "source": [
        "from sklearn.metrics import classification_report\n",
        "print(classification_report(y_true, y_pred, target_names=class_names))"
      ],
      "metadata": {
        "id": "3xKpmnF1Bait"
      },
      "execution_count": null,
      "outputs": []
    },
    {
      "cell_type": "code",
      "source": [
        "def top_k_accuracy(output, target, k=5):\n",
        "with torch.no_grad():\n",
        "max_k_preds = torch.topk(output, k, dim=1).indices\n",
        "correct = max_k_preds.eq(target.view(-1,\n",
        "1).expand_as(max_k_preds))\n",
        "return correct.any(dim=1).float().mean().item()"
      ],
      "metadata": {
        "id": "cTte80vwBex8"
      },
      "execution_count": null,
      "outputs": []
    },
    {
      "cell_type": "code",
      "source": [
        "per_class_accuracy = cm.diagonal() / cm.sum(axis=1)\n",
        "for i, acc in enumerate(per_class_accuracy):\n",
        "print(f\"Class {class_names[i]} Accuracy: {acc:.2f}\")"
      ],
      "metadata": {
        "id": "mD6HNWmfBl1D"
      },
      "execution_count": null,
      "outputs": []
    },
    {
      "cell_type": "code",
      "source": [
        "from sklearn.manifold import TSNE\n",
        "import matplotlib.pyplot as plt\n",
        "features = []\n",
        "labels_list = []\n",
        "model.eval()\n",
        "with torch.no_grad():\n",
        "for images, labels in test_loader:\n",
        "output = model(images)\n",
        "features.append(output)\n",
        "labels_list.append(labels)\n",
        "features = torch.cat(features).numpy()\n",
        "labels_list = torch.cat(labels_list).numpy()\n",
        "tsne = TSNE(n_components=2, random_state=42)\n",
        "reduced_features = tsne.fit_transform(features)\n",
        "plt.scatter(reduced_features[:, 0], reduced_features[:, 1],\n",
        "c=labels_list, cmap='tab10')\n",
        "plt.colorbar()\n",
        "plt.show()"
      ],
      "metadata": {
        "id": "VCZHiDccBnM6"
      },
      "execution_count": null,
      "outputs": []
    },
    {
      "cell_type": "code",
      "source": [
        "pip install grad-cam"
      ],
      "metadata": {
        "id": "bzFFzYjDBtZc"
      },
      "execution_count": null,
      "outputs": []
    },
    {
      "cell_type": "code",
      "source": [
        "from pytorch_grad_cam import GradCAM\n",
        "from pytorch_grad_cam.utils.image import show_cam_on_image\n",
        "target_layer = model.layer4[-1]\n",
        "architecture\n",
        "cam = GradCAM(model=model, target_layer=target_layer)\n",
        "for images, labels in test_loader:\n",
        "grayscale_cam = cam(input_tensor=images,\n",
        "target_category=labels[0])\n",
        "cam_image = show_cam_on_image(images[0].permute(1, 2, 0).numpy(),\n",
        "grayscale_cam)\n",
        "plt.imshow(cam_image)\n",
        "plt.show()"
      ],
      "metadata": {
        "id": "uCnVqlmZB4jc"
      },
      "execution_count": null,
      "outputs": []
    }
  ]
}